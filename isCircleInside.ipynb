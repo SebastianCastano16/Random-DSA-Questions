{
  "nbformat": 4,
  "nbformat_minor": 0,
  "metadata": {
    "colab": {
      "provenance": [],
      "include_colab_link": true
    },
    "kernelspec": {
      "name": "python3",
      "display_name": "Python 3"
    },
    "language_info": {
      "name": "python"
    }
  },
  "cells": [
    {
      "cell_type": "markdown",
      "metadata": {
        "id": "view-in-github",
        "colab_type": "text"
      },
      "source": [
        "<a href=\"https://colab.research.google.com/github/SebastianCastano16/Random-DSA-Questions/blob/main/isCircleInside.ipynb\" target=\"_parent\"><img src=\"https://colab.research.google.com/assets/colab-badge.svg\" alt=\"Open In Colab\"/></a>"
      ]
    },
    {
      "cell_type": "code",
      "execution_count": null,
      "metadata": {
        "colab": {
          "base_uri": "https://localhost:8080/"
        },
        "id": "ndUbdeUQlwsb",
        "outputId": "71eb121e-0f24-40ff-b790-70c5427731e7"
      },
      "outputs": [
        {
          "name": "stdout",
          "output_type": "stream",
          "text": [
            "2 6\n",
            "5 1\n",
            "7 8\n",
            "5\n"
          ]
        }
      ],
      "source": [
        "A = list(map(int, input().split()))\n",
        "x1, y1 = A[0], A[1]\n",
        "B = list(map(int, input().split()))\n",
        "x2, y2 = B[0], B[1]\n",
        "C = list(map(int, input().split()))\n",
        "x3, y3 = C[0], C[1]\n",
        "num = int(input())"
      ]
    },
    {
      "cell_type": "code",
      "source": [
        "count = 0\n",
        "for i in range(num):\n",
        "  P = list(map(int, input().split()))\n",
        "  x, y = P[0], P[1]\n",
        "  if isInside(x1, y1, x2, y2, x3, y3, x, y) == 1:\n",
        "    count +=1\n",
        "print(count)"
      ],
      "metadata": {
        "colab": {
          "base_uri": "https://localhost:8080/"
        },
        "id": "J58_Uj-7pNdh",
        "outputId": "3c4d5901-b247-48e7-bd33-5d9ad5c43299"
      },
      "execution_count": null,
      "outputs": [
        {
          "output_type": "stream",
          "name": "stdout",
          "text": [
            "1 4\n",
            "3 5\n",
            "6 4\n",
            "6 5\n",
            "4 7\n",
            "2\n"
          ]
        }
      ]
    },
    {
      "cell_type": "code",
      "source": [
        "A = list(map(int, input().split()))\n",
        "x1, y1 = A[0], A[1]\n",
        "B = list(map(int, input().split()))\n",
        "x2, y2 = B[0], B[1]\n",
        "C = list(map(int, input().split()))\n",
        "x3, y3 = C[0], C[1]\n",
        "num = int(input())\n",
        "\n",
        "def get_area(x1, y1, x2, y2, x3, y3):\n",
        "  area = 0.5 * abs(x1 * (y2-y3) + x2 * (y3-y1) + x3 * (y1-y2))\n",
        "\n",
        "  return float(area)\n",
        "\n",
        "def isInside(x1, y1, x2, y2, x3, y3, x, y):\n",
        "\n",
        "  A1 = get_area(x1,y1, x2,y2, x,y)\n",
        "  A2 = get_area(x1,y1,x3,y3,x,y)\n",
        "  A3 = get_area(x2,y2,x3,y3,x,y)\n",
        "\n",
        "  count = 0\n",
        "  if(triangle == A1 + A2 + A3):\n",
        "    count += 1\n",
        "\n",
        "  return count\n",
        "\n",
        "triangle = get_area(x1, y1, x2, y2, x3, y3)\n",
        "\n",
        "count = 0\n",
        "for i in range(num):\n",
        "  P = list(map(int, input().split()))\n",
        "  x, y = P[0], P[1]\n",
        "  if isInside(x1, y1, x2, y2, x3, y3, x, y) == 1:\n",
        "    count +=1\n",
        "\n",
        "print(\"{:.1f}\".format(triangle))\n",
        "print(count)"
      ],
      "metadata": {
        "colab": {
          "base_uri": "https://localhost:8080/"
        },
        "id": "0Au418G2rAdf",
        "outputId": "4d704815-b773-4376-db0c-efabf2cb7442"
      },
      "execution_count": null,
      "outputs": [
        {
          "output_type": "stream",
          "name": "stdout",
          "text": [
            "1 1\n",
            "5 1\n",
            "3 3\n",
            "4\n",
            "3 1\n",
            "3 2\n",
            "3 3\n",
            "3 4\n",
            "4.0\n",
            "3\n"
          ]
        }
      ]
    },
    {
      "cell_type": "code",
      "source": [
        "#Given two points:\n",
        "#   Find the two radii of the two circles I can create the with the given diamter\n",
        "#"
      ],
      "metadata": {
        "id": "h1Q4XPL5orKR"
      },
      "execution_count": null,
      "outputs": []
    },
    {
      "cell_type": "code",
      "source": [
        "def inside_circ(diameter, circ, point):\n",
        "  radius = (diameter/2)\n",
        "  dx = abs(point[0] - circ[0])\n",
        "  dy = abs(point[1] - circ[1])\n",
        "\n",
        "  if (dx*dx) + (dy*dy) <= (radius*radius):\n",
        "    return True\n",
        "  else:\n",
        "    return False"
      ],
      "metadata": {
        "id": "HuDgdpYXrWxH"
      },
      "execution_count": null,
      "outputs": []
    },
    {
      "cell_type": "code",
      "source": [
        "import math\n",
        "\n",
        "def find_circles(p1, p2, d):\n",
        "    dist = math.sqrt((p2[0] - p1[0])**2 + (p2[1] - p1[1])**2)\n",
        "\n",
        "    # if the distance is greater than the diameter, no circles can be formed\n",
        "    if dist > d:\n",
        "        return \"No circles found\"\n",
        "\n",
        "     # if the distance is equal to the diameter, there is only one circle\n",
        "    elif dist == d:\n",
        "        return [((p1[0]+p2[0])/2, (p1[1]+p2[1])/2)]\n",
        "\n",
        "\n",
        "    # otherwise, find the two possible centers of the circles\n",
        "    else:\n",
        "        # calculate the midpoint of the two points\n",
        "        mid_x = (p1[0] + p2[0]) / 2\n",
        "        mid_y = (p1[1] + p2[1]) / 2\n",
        "\n",
        "        # calculate the distance from the midpoint to the center of the circles\n",
        "        delta = math.sqrt((d/2)**2 - (dist/2)**2)\n",
        "\n",
        "\n",
        "        # calculate the coordinates of the centers of the circles\n",
        "        center1_x = mid_x + delta * (p1[1] - p2[1]) / dist\n",
        "        center1_y = mid_y + delta * (p2[0] - p1[0]) / dist\n",
        "        center2_x = mid_x - delta * (p1[1] - p2[1]) / dist\n",
        "        center2_y = mid_y - delta * (p2[0] - p1[0]) / dist\n",
        "\n",
        "        return [(center1_x, center1_y), (center2_x, center2_y)]\n",
        "\n",
        "# Find out how to pass in the arguments-\n",
        "#       In a way to make sure we don't repeat scenarios\n",
        "#       Array only check the that positions with all the following ones\n",
        "#\n",
        "#\n",
        "#\n"
      ],
      "metadata": {
        "id": "vPmxHeRQrWuv"
      },
      "execution_count": null,
      "outputs": []
    },
    {
      "cell_type": "code",
      "source": [
        "##reading input\n",
        "\n",
        "num_situations = int(input())\n",
        "input()\n",
        "for sitch in range(num_situations):\n",
        "  mosquitoes, diameter = map(float, input().split())\n",
        "\n",
        "  arr = []\n",
        "  max_num = 0\n",
        "  for i in range (int(mosquitoes)):\n",
        "    x, y = map(float, input().split())\n",
        "    arr.append((x,y))\n",
        "\n",
        "\n",
        "\n",
        "\n",
        "  for i in range(len(arr)):\n",
        "    for j in range(i+1, len(arr)):\n",
        "      #print(arr[i], arr[j])\n",
        "      circle_centers = find_circles(arr[i], arr[j], diameter)\n",
        "      print(circle_centers[0])\n",
        "      arr[i]\n",
        "\n",
        "\n",
        "      if circle_centers == 'No circles found':\n",
        "        None\n",
        "      else:\n",
        "        for i in arr:\n",
        "\n",
        "          mosq = inside_circ(diameter, circle_centers[0], arr[i])\n",
        "          print(mosq)\n",
        "\n",
        "\n",
        "          ##Check to see if you can do it within circle center\n",
        "          ##Same if statements to see if none are found\n",
        "          ##And then if multiple have a case for it\n",
        "\n",
        "\n",
        "\n",
        "\n",
        "  if sitch == num_situations-1:\n",
        "    break\n",
        "  else: input()\n",
        "\n",
        "#print(arr)"
      ],
      "metadata": {
        "colab": {
          "base_uri": "https://localhost:8080/",
          "height": 380
        },
        "id": "Y263K1b8tTz_",
        "outputId": "69d3f2fa-972f-4296-a1b2-b3151308ac5e"
      },
      "execution_count": null,
      "outputs": [
        {
          "output_type": "error",
          "ename": "KeyboardInterrupt",
          "evalue": "ignored",
          "traceback": [
            "\u001b[0;31m---------------------------------------------------------------------------\u001b[0m",
            "\u001b[0;31mKeyboardInterrupt\u001b[0m                         Traceback (most recent call last)",
            "\u001b[0;32m<ipython-input-15-2d6aff6beb6c>\u001b[0m in \u001b[0;36m<module>\u001b[0;34m\u001b[0m\n\u001b[1;32m      1\u001b[0m \u001b[0;31m##reading input\u001b[0m\u001b[0;34m\u001b[0m\u001b[0;34m\u001b[0m\u001b[0;34m\u001b[0m\u001b[0m\n\u001b[1;32m      2\u001b[0m \u001b[0;34m\u001b[0m\u001b[0m\n\u001b[0;32m----> 3\u001b[0;31m \u001b[0mnum_situations\u001b[0m \u001b[0;34m=\u001b[0m \u001b[0mint\u001b[0m\u001b[0;34m(\u001b[0m\u001b[0minput\u001b[0m\u001b[0;34m(\u001b[0m\u001b[0;34m)\u001b[0m\u001b[0;34m)\u001b[0m\u001b[0;34m\u001b[0m\u001b[0;34m\u001b[0m\u001b[0m\n\u001b[0m\u001b[1;32m      4\u001b[0m \u001b[0minput\u001b[0m\u001b[0;34m(\u001b[0m\u001b[0;34m)\u001b[0m\u001b[0;34m\u001b[0m\u001b[0;34m\u001b[0m\u001b[0m\n\u001b[1;32m      5\u001b[0m \u001b[0;32mfor\u001b[0m \u001b[0msitch\u001b[0m \u001b[0;32min\u001b[0m \u001b[0mrange\u001b[0m\u001b[0;34m(\u001b[0m\u001b[0mnum_situations\u001b[0m\u001b[0;34m)\u001b[0m\u001b[0;34m:\u001b[0m\u001b[0;34m\u001b[0m\u001b[0;34m\u001b[0m\u001b[0m\n",
            "\u001b[0;32m/usr/local/lib/python3.8/dist-packages/ipykernel/kernelbase.py\u001b[0m in \u001b[0;36mraw_input\u001b[0;34m(self, prompt)\u001b[0m\n\u001b[1;32m    858\u001b[0m                 \u001b[0;34m\"raw_input was called, but this frontend does not support input requests.\"\u001b[0m\u001b[0;34m\u001b[0m\u001b[0;34m\u001b[0m\u001b[0m\n\u001b[1;32m    859\u001b[0m             )\n\u001b[0;32m--> 860\u001b[0;31m         return self._input_request(str(prompt),\n\u001b[0m\u001b[1;32m    861\u001b[0m             \u001b[0mself\u001b[0m\u001b[0;34m.\u001b[0m\u001b[0m_parent_ident\u001b[0m\u001b[0;34m,\u001b[0m\u001b[0;34m\u001b[0m\u001b[0;34m\u001b[0m\u001b[0m\n\u001b[1;32m    862\u001b[0m             \u001b[0mself\u001b[0m\u001b[0;34m.\u001b[0m\u001b[0m_parent_header\u001b[0m\u001b[0;34m,\u001b[0m\u001b[0;34m\u001b[0m\u001b[0;34m\u001b[0m\u001b[0m\n",
            "\u001b[0;32m/usr/local/lib/python3.8/dist-packages/ipykernel/kernelbase.py\u001b[0m in \u001b[0;36m_input_request\u001b[0;34m(self, prompt, ident, parent, password)\u001b[0m\n\u001b[1;32m    902\u001b[0m             \u001b[0;32mexcept\u001b[0m \u001b[0mKeyboardInterrupt\u001b[0m\u001b[0;34m:\u001b[0m\u001b[0;34m\u001b[0m\u001b[0;34m\u001b[0m\u001b[0m\n\u001b[1;32m    903\u001b[0m                 \u001b[0;31m# re-raise KeyboardInterrupt, to truncate traceback\u001b[0m\u001b[0;34m\u001b[0m\u001b[0;34m\u001b[0m\u001b[0;34m\u001b[0m\u001b[0m\n\u001b[0;32m--> 904\u001b[0;31m                 \u001b[0;32mraise\u001b[0m \u001b[0mKeyboardInterrupt\u001b[0m\u001b[0;34m(\u001b[0m\u001b[0;34m\"Interrupted by user\"\u001b[0m\u001b[0;34m)\u001b[0m \u001b[0;32mfrom\u001b[0m \u001b[0;32mNone\u001b[0m\u001b[0;34m\u001b[0m\u001b[0;34m\u001b[0m\u001b[0m\n\u001b[0m\u001b[1;32m    905\u001b[0m             \u001b[0;32mexcept\u001b[0m \u001b[0mException\u001b[0m \u001b[0;32mas\u001b[0m \u001b[0me\u001b[0m\u001b[0;34m:\u001b[0m\u001b[0;34m\u001b[0m\u001b[0;34m\u001b[0m\u001b[0m\n\u001b[1;32m    906\u001b[0m                 \u001b[0mself\u001b[0m\u001b[0;34m.\u001b[0m\u001b[0mlog\u001b[0m\u001b[0;34m.\u001b[0m\u001b[0mwarning\u001b[0m\u001b[0;34m(\u001b[0m\u001b[0;34m\"Invalid Message:\"\u001b[0m\u001b[0;34m,\u001b[0m \u001b[0mexc_info\u001b[0m\u001b[0;34m=\u001b[0m\u001b[0;32mTrue\u001b[0m\u001b[0;34m)\u001b[0m\u001b[0;34m\u001b[0m\u001b[0;34m\u001b[0m\u001b[0m\n",
            "\u001b[0;31mKeyboardInterrupt\u001b[0m: Interrupted by user"
          ]
        }
      ]
    },
    {
      "cell_type": "code",
      "source": [
        "##reading input\n",
        "\n",
        "num_situations = int(input())\n",
        "input()\n",
        "for sitch in range(num_situations):\n",
        "  mosquitoes, diameter = map(float, input().split())\n",
        "\n",
        "  arr = []\n",
        "  max_num = 0\n",
        "  for i in range (int(mosquitoes)):\n",
        "    x, y = map(float, input().split())\n",
        "    arr.append((x,y))\n",
        "\n",
        "\n",
        "\n",
        "\n",
        "  for i in range(len(arr)):\n",
        "    for j in range(i+1, len(arr)):\n",
        "      #print(arr[i], arr[j])\n",
        "      circle_centers = find_circles(arr[i], arr[j], diameter)\n",
        "      print(circle_centers[0])\n",
        "      arr[i]\n",
        "\n",
        "\n",
        "      if circle_centers == 'No circles found':\n",
        "        None\n",
        "      else:\n",
        "        for i in arr:\n",
        "\n",
        "          mosq = inside_circ(diameter, circle_centers[0], arr[i])\n",
        "          print(mosq)\n",
        "\n",
        "\n",
        "          ##Check to see if you can do it within circle center\n",
        "          ##Same if statements to see if none are found\n",
        "          ##And then if multiple have a case for it\n",
        "\n",
        "\n",
        "\n",
        "\n",
        "  if sitch == num_situations-1:\n",
        "    break\n",
        "  else: input()\n",
        "\n",
        "#print(arr)"
      ],
      "metadata": {
        "colab": {
          "base_uri": "https://localhost:8080/",
          "height": 380
        },
        "outputId": "69d3f2fa-972f-4296-a1b2-b3151308ac5e",
        "id": "xtVMI-6zvKww"
      },
      "execution_count": null,
      "outputs": [
        {
          "output_type": "error",
          "ename": "KeyboardInterrupt",
          "evalue": "ignored",
          "traceback": [
            "\u001b[0;31m---------------------------------------------------------------------------\u001b[0m",
            "\u001b[0;31mKeyboardInterrupt\u001b[0m                         Traceback (most recent call last)",
            "\u001b[0;32m<ipython-input-15-2d6aff6beb6c>\u001b[0m in \u001b[0;36m<module>\u001b[0;34m\u001b[0m\n\u001b[1;32m      1\u001b[0m \u001b[0;31m##reading input\u001b[0m\u001b[0;34m\u001b[0m\u001b[0;34m\u001b[0m\u001b[0;34m\u001b[0m\u001b[0m\n\u001b[1;32m      2\u001b[0m \u001b[0;34m\u001b[0m\u001b[0m\n\u001b[0;32m----> 3\u001b[0;31m \u001b[0mnum_situations\u001b[0m \u001b[0;34m=\u001b[0m \u001b[0mint\u001b[0m\u001b[0;34m(\u001b[0m\u001b[0minput\u001b[0m\u001b[0;34m(\u001b[0m\u001b[0;34m)\u001b[0m\u001b[0;34m)\u001b[0m\u001b[0;34m\u001b[0m\u001b[0;34m\u001b[0m\u001b[0m\n\u001b[0m\u001b[1;32m      4\u001b[0m \u001b[0minput\u001b[0m\u001b[0;34m(\u001b[0m\u001b[0;34m)\u001b[0m\u001b[0;34m\u001b[0m\u001b[0;34m\u001b[0m\u001b[0m\n\u001b[1;32m      5\u001b[0m \u001b[0;32mfor\u001b[0m \u001b[0msitch\u001b[0m \u001b[0;32min\u001b[0m \u001b[0mrange\u001b[0m\u001b[0;34m(\u001b[0m\u001b[0mnum_situations\u001b[0m\u001b[0;34m)\u001b[0m\u001b[0;34m:\u001b[0m\u001b[0;34m\u001b[0m\u001b[0;34m\u001b[0m\u001b[0m\n",
            "\u001b[0;32m/usr/local/lib/python3.8/dist-packages/ipykernel/kernelbase.py\u001b[0m in \u001b[0;36mraw_input\u001b[0;34m(self, prompt)\u001b[0m\n\u001b[1;32m    858\u001b[0m                 \u001b[0;34m\"raw_input was called, but this frontend does not support input requests.\"\u001b[0m\u001b[0;34m\u001b[0m\u001b[0;34m\u001b[0m\u001b[0m\n\u001b[1;32m    859\u001b[0m             )\n\u001b[0;32m--> 860\u001b[0;31m         return self._input_request(str(prompt),\n\u001b[0m\u001b[1;32m    861\u001b[0m             \u001b[0mself\u001b[0m\u001b[0;34m.\u001b[0m\u001b[0m_parent_ident\u001b[0m\u001b[0;34m,\u001b[0m\u001b[0;34m\u001b[0m\u001b[0;34m\u001b[0m\u001b[0m\n\u001b[1;32m    862\u001b[0m             \u001b[0mself\u001b[0m\u001b[0;34m.\u001b[0m\u001b[0m_parent_header\u001b[0m\u001b[0;34m,\u001b[0m\u001b[0;34m\u001b[0m\u001b[0;34m\u001b[0m\u001b[0m\n",
            "\u001b[0;32m/usr/local/lib/python3.8/dist-packages/ipykernel/kernelbase.py\u001b[0m in \u001b[0;36m_input_request\u001b[0;34m(self, prompt, ident, parent, password)\u001b[0m\n\u001b[1;32m    902\u001b[0m             \u001b[0;32mexcept\u001b[0m \u001b[0mKeyboardInterrupt\u001b[0m\u001b[0;34m:\u001b[0m\u001b[0;34m\u001b[0m\u001b[0;34m\u001b[0m\u001b[0m\n\u001b[1;32m    903\u001b[0m                 \u001b[0;31m# re-raise KeyboardInterrupt, to truncate traceback\u001b[0m\u001b[0;34m\u001b[0m\u001b[0;34m\u001b[0m\u001b[0;34m\u001b[0m\u001b[0m\n\u001b[0;32m--> 904\u001b[0;31m                 \u001b[0;32mraise\u001b[0m \u001b[0mKeyboardInterrupt\u001b[0m\u001b[0;34m(\u001b[0m\u001b[0;34m\"Interrupted by user\"\u001b[0m\u001b[0;34m)\u001b[0m \u001b[0;32mfrom\u001b[0m \u001b[0;32mNone\u001b[0m\u001b[0;34m\u001b[0m\u001b[0;34m\u001b[0m\u001b[0m\n\u001b[0m\u001b[1;32m    905\u001b[0m             \u001b[0;32mexcept\u001b[0m \u001b[0mException\u001b[0m \u001b[0;32mas\u001b[0m \u001b[0me\u001b[0m\u001b[0;34m:\u001b[0m\u001b[0;34m\u001b[0m\u001b[0;34m\u001b[0m\u001b[0m\n\u001b[1;32m    906\u001b[0m                 \u001b[0mself\u001b[0m\u001b[0;34m.\u001b[0m\u001b[0mlog\u001b[0m\u001b[0;34m.\u001b[0m\u001b[0mwarning\u001b[0m\u001b[0;34m(\u001b[0m\u001b[0;34m\"Invalid Message:\"\u001b[0m\u001b[0;34m,\u001b[0m \u001b[0mexc_info\u001b[0m\u001b[0;34m=\u001b[0m\u001b[0;32mTrue\u001b[0m\u001b[0;34m)\u001b[0m\u001b[0;34m\u001b[0m\u001b[0;34m\u001b[0m\u001b[0m\n",
            "\u001b[0;31mKeyboardInterrupt\u001b[0m: Interrupted by user"
          ]
        }
      ]
    },
    {
      "cell_type": "code",
      "source": [
        "##reading input\n",
        "\n",
        "num_situations = int(input())\n",
        "input()\n",
        "for sitch in range(num_situations):\n",
        "  mosquitoes, diameter = map(float, input().split())\n",
        "\n",
        "  arr = []\n",
        "  max_num = 0\n",
        "  for i in range (int(mosquitoes)):\n",
        "    x, y = map(float, input().split())\n",
        "    arr.append((x,y))\n",
        "\n",
        "\n",
        "\n",
        "\n",
        "  for i in range(len(arr)):\n",
        "    for j in range(i+1, len(arr)):\n",
        "      #print(arr[i], arr[j])\n",
        "      circle_centers = find_circles(arr[i], arr[j], diameter)\n",
        "      print(circle_centers)\n",
        "      #arr[i]\n",
        "\n",
        "\n",
        "      if circle_centers == 'No circles found':\n",
        "        None\n",
        "      else:\n",
        "        for i in arr:\n",
        "          print(arr[i])\n",
        "          mosq = inside_circ(diameter, circle_centers[0], arr[i])\n",
        "          print(mosq)\n",
        "\n",
        "\n",
        "          ##Check to see if you can do it within circle center\n",
        "          ##Same if statements to see if none are found\n",
        "          ##And then if multiple have a case for it\n",
        "\n",
        "\n",
        "\n",
        "\n",
        "  if sitch == num_situations-1:\n",
        "    break\n",
        "  else: input()\n",
        "\n",
        "#print(arr)"
      ],
      "metadata": {
        "colab": {
          "base_uri": "https://localhost:8080/",
          "height": 391
        },
        "outputId": "a8f49abc-835e-4ead-e49a-68ceb9658f51",
        "id": "7i5HoPDZvMNg"
      },
      "execution_count": null,
      "outputs": [
        {
          "output_type": "stream",
          "name": "stdout",
          "text": [
            "1\n",
            "\n",
            "4 1.5\n",
            "1.0 3.75\n",
            "3.0 1.0\n",
            "1.0 2.25\n",
            "1.5 3.0\n",
            "No circles found\n",
            "[(1.0, 3.0)]\n"
          ]
        },
        {
          "output_type": "error",
          "ename": "TypeError",
          "evalue": "ignored",
          "traceback": [
            "\u001b[0;31m---------------------------------------------------------------------------\u001b[0m",
            "\u001b[0;31mTypeError\u001b[0m                                 Traceback (most recent call last)",
            "\u001b[0;32m<ipython-input-17-941a1f2de4af>\u001b[0m in \u001b[0;36m<module>\u001b[0;34m\u001b[0m\n\u001b[1;32m     27\u001b[0m       \u001b[0;32melse\u001b[0m\u001b[0;34m:\u001b[0m\u001b[0;34m\u001b[0m\u001b[0;34m\u001b[0m\u001b[0m\n\u001b[1;32m     28\u001b[0m         \u001b[0;32mfor\u001b[0m \u001b[0mi\u001b[0m \u001b[0;32min\u001b[0m \u001b[0marr\u001b[0m\u001b[0;34m:\u001b[0m\u001b[0;34m\u001b[0m\u001b[0;34m\u001b[0m\u001b[0m\n\u001b[0;32m---> 29\u001b[0;31m           \u001b[0mprint\u001b[0m\u001b[0;34m(\u001b[0m\u001b[0marr\u001b[0m\u001b[0;34m[\u001b[0m\u001b[0mi\u001b[0m\u001b[0;34m]\u001b[0m\u001b[0;34m)\u001b[0m\u001b[0;34m\u001b[0m\u001b[0;34m\u001b[0m\u001b[0m\n\u001b[0m\u001b[1;32m     30\u001b[0m           \u001b[0mmosq\u001b[0m \u001b[0;34m=\u001b[0m \u001b[0minside_circ\u001b[0m\u001b[0;34m(\u001b[0m\u001b[0mdiameter\u001b[0m\u001b[0;34m,\u001b[0m \u001b[0mcircle_centers\u001b[0m\u001b[0;34m[\u001b[0m\u001b[0;36m0\u001b[0m\u001b[0;34m]\u001b[0m\u001b[0;34m,\u001b[0m \u001b[0marr\u001b[0m\u001b[0;34m[\u001b[0m\u001b[0mi\u001b[0m\u001b[0;34m]\u001b[0m\u001b[0;34m)\u001b[0m\u001b[0;34m\u001b[0m\u001b[0;34m\u001b[0m\u001b[0m\n\u001b[1;32m     31\u001b[0m           \u001b[0mprint\u001b[0m\u001b[0;34m(\u001b[0m\u001b[0mmosq\u001b[0m\u001b[0;34m)\u001b[0m\u001b[0;34m\u001b[0m\u001b[0;34m\u001b[0m\u001b[0m\n",
            "\u001b[0;31mTypeError\u001b[0m: list indices must be integers or slices, not tuple"
          ]
        }
      ]
    },
    {
      "cell_type": "code",
      "source": [
        "diameter = 1.5\n",
        "circle = (1.5, 2.0)\n",
        "mos1 = (1.0, 2.0)\n",
        "fly = inside_circ(diameter, circle, mos1)\n",
        "print(fly)"
      ],
      "metadata": {
        "colab": {
          "base_uri": "https://localhost:8080/"
        },
        "id": "cduqkI3VuHtv",
        "outputId": "f610d759-58e3-4c67-b662-162678f7e1ac"
      },
      "execution_count": null,
      "outputs": [
        {
          "output_type": "stream",
          "name": "stdout",
          "text": [
            "True\n"
          ]
        }
      ]
    },
    {
      "cell_type": "code",
      "source": [],
      "metadata": {
        "id": "jM-ShoWAJtP_"
      },
      "execution_count": null,
      "outputs": []
    },
    {
      "cell_type": "code",
      "source": [],
      "metadata": {
        "id": "9KTSaS0GJtN8"
      },
      "execution_count": null,
      "outputs": []
    },
    {
      "cell_type": "code",
      "source": [],
      "metadata": {
        "id": "5b39ATBaJtLL"
      },
      "execution_count": null,
      "outputs": []
    },
    {
      "cell_type": "code",
      "source": [],
      "metadata": {
        "id": "p10OoGy9JtIc"
      },
      "execution_count": null,
      "outputs": []
    },
    {
      "cell_type": "code",
      "source": [],
      "metadata": {
        "id": "stOoE6gNJtEj"
      },
      "execution_count": null,
      "outputs": []
    },
    {
      "cell_type": "code",
      "source": [],
      "metadata": {
        "id": "DqpVxhLRJtA3"
      },
      "execution_count": null,
      "outputs": []
    },
    {
      "cell_type": "code",
      "source": [
        "for i in range(0, 1000, 1):\n",
        "  N, M = list(map(int, input().split()))\n",
        "  holes = []\n",
        "  if (N, M == 0, 0):\n",
        "    break\n",
        "  else:        ###Figure out where to start the next holes list ie in the for loop, outside of it\n",
        "    for i in range(M):\n",
        "      temp =  list(map(int, input().split()))\n",
        "      holes.append(temp)\n",
        "print(holes)"
      ],
      "metadata": {
        "colab": {
          "base_uri": "https://localhost:8080/"
        },
        "id": "90B-QQWAHLOC",
        "outputId": "f1192079-5e8d-4fff-de0e-53fcb76b37ae"
      },
      "execution_count": null,
      "outputs": [
        {
          "output_type": "stream",
          "name": "stdout",
          "text": [
            "8 1\n",
            "[]\n"
          ]
        }
      ]
    },
    {
      "cell_type": "code",
      "source": [],
      "metadata": {
        "id": "3nUHnuj1LOzD"
      },
      "execution_count": null,
      "outputs": []
    }
  ]
}
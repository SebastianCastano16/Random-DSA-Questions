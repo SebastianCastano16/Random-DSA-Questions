{
  "nbformat": 4,
  "nbformat_minor": 0,
  "metadata": {
    "colab": {
      "provenance": [],
      "authorship_tag": "ABX9TyMYsd5X8Cvfp4Sg73DHbxwm",
      "include_colab_link": true
    },
    "kernelspec": {
      "name": "python3",
      "display_name": "Python 3"
    },
    "language_info": {
      "name": "python"
    }
  },
  "cells": [
    {
      "cell_type": "markdown",
      "metadata": {
        "id": "view-in-github",
        "colab_type": "text"
      },
      "source": [
        "<a href=\"https://colab.research.google.com/github/SebastianCastano16/Random-DSA-Questions/blob/main/ChemVows.ipynb\" target=\"_parent\"><img src=\"https://colab.research.google.com/assets/colab-badge.svg\" alt=\"Open In Colab\"/></a>"
      ]
    },
    {
      "cell_type": "code",
      "execution_count": null,
      "metadata": {
        "colab": {
          "base_uri": "https://localhost:8080/"
        },
        "id": "sP4ukvOkcG8R",
        "outputId": "27bdfff0-d745-4e67-846d-f05df60fa2a2"
      },
      "outputs": [
        {
          "output_type": "stream",
          "name": "stdout",
          "text": [
            "4\n",
            "international\n",
            "programming\n",
            "contest\n",
            "collegiate\n",
            "YES\n",
            "NO\n",
            "NO\n",
            "NO\n"
          ]
        }
      ],
      "source": [
        "elements = [\"h\", \"he\",\n",
        "\"li\", \"be\", \"b\", \"c\", \"n\", \"o\", \"f\", \"ne\",\n",
        "\"na\", \"mg\", \"al\", \"si\", \"p\", \"s\", \"cl\", \"ar\",\n",
        "\"k\", \"ca\", \"sc\", \"ti\", \"v\", \"cr\", \"mn\", \"fe\", \"co\", \"ni\", \"cu\", \"zn\", \"ga\", \"ge\", \"as\", \"se\", \"br\", \"kr\",\n",
        "\"rb\", \"sr\", \"y\", \"zr\", \"nb\", \"mo\", \"tc\", \"ru\", \"rh\", \"pd\", \"ag\", \"cd\", \"in\", \"sn\", \"sb\", \"te\", \"i\", \"xe\",\n",
        "\"cs\", \"ba\", \"hf\", \"ta\", \"w\", \"re\", \"os\", \"ir\", \"pt\", \"au\", \"hg\", \"tl\", \"pb\", \"bi\", \"po\", \"at\", \"rn\",\n",
        "\"fr\", \"ra\", \"rf\", \"db\", \"sg\", \"bh\", \"hs\", \"mt\", \"ds\", \"rg\", \"cn\", \"fl\",\"lv\",\n",
        "\"la\", \"ce\", \"pr\", \"nd\", \"pm\", \"sm\", \"eu\", \"gd\", \"tb\", \"dy\", \"ho\", \"er\", \"tm\", \"yb\", \"lu\",\n",
        "\"ac\", \"th\", \"pa\", \"u\", \"np\", \"pu\", \"am\", \"cm\", \"bk\", \"cf\", \"es\", \"fm\", \"md\", \"no\", \"lr\"]\n",
        "\n",
        "def chem_vows(s):\n",
        "\n",
        "  list = [False] * (len(s) + 1)\n",
        "  list[len(s)] = True\n",
        "\n",
        "  for i in range(len(s) - 1, -1, -1):\n",
        "    for ele in elements:\n",
        "      if (i + len(ele)) <= len(s) and s[i : i + len(ele)] == ele:\n",
        "        list[i] = list[i + len(ele)]\n",
        "      if list[i]:\n",
        "        break\n",
        "\n",
        "  if list[0]:\n",
        "    return (\"YES\")\n",
        "  else:\n",
        "    return (\"NO\")\n",
        "\n",
        "\n",
        "n = int(input())\n",
        "words = []\n",
        "for i in range(n):\n",
        "  words.append(input())\n",
        "\n",
        "for i in words:\n",
        "  print(chem_vows(i))"
      ]
    },
    {
      "cell_type": "code",
      "source": [],
      "metadata": {
        "id": "Kvwlxm2a_T-D"
      },
      "execution_count": null,
      "outputs": []
    },
    {
      "cell_type": "code",
      "source": [
        "a = [1, 2, 5]\n",
        "print(len(a))"
      ],
      "metadata": {
        "colab": {
          "base_uri": "https://localhost:8080/"
        },
        "id": "_a50dz00_T5w",
        "outputId": "91f3e9d0-72d3-4e34-b492-02a11ac823e1"
      },
      "execution_count": null,
      "outputs": [
        {
          "output_type": "stream",
          "name": "stdout",
          "text": [
            "3\n"
          ]
        }
      ]
    },
    {
      "cell_type": "code",
      "source": [],
      "metadata": {
        "id": "enh74EUi_T10"
      },
      "execution_count": null,
      "outputs": []
    },
    {
      "cell_type": "code",
      "source": [],
      "metadata": {
        "id": "OM7YK5jI_TuK"
      },
      "execution_count": null,
      "outputs": []
    },
    {
      "cell_type": "code",
      "source": [
        "num_items = int(input())\n",
        "items = [eval(i) for i in input().split()]\n",
        "num_orders = int(input())\n",
        "orders = [eval(i) for i in input().split()]\n",
        "amount = max(orders)\n",
        "####Input\n",
        "\n",
        "def restaurant(amount, items):\n",
        "  dp = [[0] * (len(items)+1) for i in range(amount +1)]\n",
        "  #List of 'amount + 1' rows and 'len(items) + 1' columns; everything initialized to 0\n",
        "  dp[0] = [1] * (len(items)+1)\n",
        "\n",
        "  for a in range(1, amount+1):\n",
        "    for i in range(len(items) -1, -1, -1):\n",
        "      dp[a][i] = dp[a][i+1]\n",
        "      if a - items[i] >= 0:\n",
        "        dp[a][i] += dp[a - items[i]][i]\n",
        "  return dp\n",
        "\n",
        "dp = restaurant(amount, items)\n",
        "\n",
        "\n",
        "def combinationSum(arr, sum):\n",
        "\tans = []\n",
        "\ttemp = []\n",
        "\n",
        " \t# first do hashing nothing but set{}\n",
        " \t# since set does not always sort\n",
        "\t# removing the duplicates using Set and\n",
        "\t# Sorting the List\n",
        "\n",
        "\tarr = sorted(list(set(arr)))\n",
        "\tfindNumbers(ans, arr, temp, sum, 0)\n",
        "\treturn ans\n",
        "\n",
        "def findNumbers(ans, arr, temp, sum, index):\n",
        "\n",
        "\tif(sum == 0):\n",
        "\n",
        "        # Adding deep copy of list to ans\n",
        "\t\tans.append(list(temp))\n",
        "\t\treturn\n",
        "\n",
        "    # Iterate from index to len(arr) - 1\n",
        "\tfor i in range(index, len(arr)):\n",
        "\n",
        "        # checking that sum does not become negative\n",
        "\t\tif(sum - arr[i]) >= 0:\n",
        "\n",
        "\t        # adding element which can contribute to sum\n",
        "\t\t\ttemp.append(arr[i])\n",
        "\t\t\tfindNumbers(ans, arr, temp, sum-arr[i], i)\n",
        "\n",
        "            # removing element from list (backtracking)\n",
        "\t\t\ttemp.remove(arr[i])\n",
        "\n",
        "\n",
        "yo = []\n",
        "for i in orders:\n",
        "  if dp[i][0] == 0:\n",
        "   print('Impossible')\n",
        "  elif dp[i][0] >= 2:\n",
        "    print ('Ambiguous')\n",
        "  else:\n",
        "    arr = items\n",
        "    sum = i\n",
        "    ans = combinationSum(arr, sum)\n",
        "# If result is empty, then  # If result is empty, then\n",
        "    if len(ans) <= 0:\n",
        "      print(\"empty\")\n",
        "\n",
        "# print all combinations stored in ans\n",
        "    for i in range(len(ans)):\n",
        "\n",
        "      for j in range(len(ans[i])):\n",
        "        yo.append(items.index(ans[i][j])+1)\n",
        "\n",
        "    print(*yo, sep=' ')\n",
        "\n",
        "\n",
        "### Edge Cases:\n",
        "# Input contains an amount for which there is no combinationSum\n",
        "#####IF there is back to back unique sums---IT prints both lines on the second iter#####"
      ],
      "metadata": {
        "colab": {
          "base_uri": "https://localhost:8080/"
        },
        "id": "LQpn0o4b1hGn",
        "outputId": "dc53f3cc-90fd-4949-9da1-53c51f55e67e"
      },
      "execution_count": null,
      "outputs": [
        {
          "output_type": "stream",
          "name": "stdout",
          "text": [
            "3\n",
            "4 5 8\n",
            "3\n",
            "11 13 14\n",
            "Impossible\n",
            "Ambiguous\n",
            "1 2 2\n"
          ]
        }
      ]
    },
    {
      "cell_type": "code",
      "source": [],
      "metadata": {
        "id": "AsgZK2ypaag5"
      },
      "execution_count": null,
      "outputs": []
    },
    {
      "cell_type": "code",
      "source": [],
      "metadata": {
        "id": "2z5rMbeyhAwH"
      },
      "execution_count": null,
      "outputs": []
    },
    {
      "cell_type": "code",
      "source": [],
      "metadata": {
        "id": "-rBKIU99hAl3"
      },
      "execution_count": null,
      "outputs": []
    },
    {
      "cell_type": "code",
      "source": [],
      "metadata": {
        "id": "fnBOxk7BaacY"
      },
      "execution_count": null,
      "outputs": []
    },
    {
      "cell_type": "code",
      "source": [],
      "metadata": {
        "id": "3w-Qz-chgCTz"
      },
      "execution_count": null,
      "outputs": []
    },
    {
      "cell_type": "code",
      "source": [
        "num_items = int(input())\n",
        "items = [eval(i) for i in input().split()]\n",
        "num_orders = int(input())\n",
        "orders = [eval(i) for i in input().split()]\n",
        "amount = max(orders)\n",
        "####Input\n",
        "\n",
        "def restaurant(amount, items):\n",
        "  dp = [0] * (amount + 1)\n",
        "  #List of 'amount + 1' rows and 'len(items) + 1' columns; everything initialized to 0\n",
        "  dp[0] = 1\n",
        "\n",
        "  for i in range(len(items) -1, -1, -1):\n",
        "    nextDP = [0] * (amount + 1)\n",
        "    nextDP[0] = 1\n",
        "    for a in range(1, amount+1):\n",
        "      nextDP[a] = dp[a]\n",
        "      if a - items[i] >= 0:\n",
        "        nextDP[a] += nextDP[a - items[i]]\n",
        "    dp = nextDP\n",
        "  return dp[amount]\n",
        "\n",
        "dp = restaurant(amount, items)\n",
        "\n",
        "\n",
        "def combinationSum(arr, sum):\n",
        "\tans = []\n",
        "\ttemp = []\n",
        "\n",
        " \t# first do hashing nothing but set{}\n",
        " \t# since set does not always sort\n",
        "\t# removing the duplicates using Set and\n",
        "\t# Sorting the List\n",
        "\n",
        "\tarr = sorted(list(set(arr)))\n",
        "\tfindNumbers(ans, arr, temp, sum, 0)\n",
        "\treturn ans\n",
        "\n",
        "def findNumbers(ans, arr, temp, sum, index):\n",
        "\n",
        "\tif(sum == 0):\n",
        "\n",
        "        # Adding deep copy of list to ans\n",
        "\t\tans.append(list(temp))\n",
        "\t\treturn\n",
        "\n",
        "    # Iterate from index to len(arr) - 1\n",
        "\tfor i in range(index, len(arr)):\n",
        "\n",
        "        # checking that sum does not become negative\n",
        "\t\tif(sum - arr[i]) >= 0:\n",
        "\n",
        "\t        # adding element which can contribute to sum\n",
        "\t\t\ttemp.append(arr[i])\n",
        "\t\t\tfindNumbers(ans, arr, temp, sum-arr[i], i)\n",
        "\n",
        "            # removing element from list (backtracking)\n",
        "\t\t\ttemp.remove(arr[i])\n",
        "\n",
        "\n",
        "yo = []\n",
        "for i in orders:\n",
        "  if dp[i] == 0:\n",
        "   print('Impossible')\n",
        "  elif dp[i] >= 2:\n",
        "    print ('Ambiguous')\n",
        "  else:\n",
        "    arr = items\n",
        "    sum = i\n",
        "    ans = combinationSum(arr, sum)\n",
        "# If result is empty, then  # If result is empty, then\n",
        "    if len(ans) <= 0:\n",
        "      print(\"empty\")\n",
        "\n",
        "# print all combinations stored in ans\n",
        "    for i in range(len(ans)):\n",
        "\n",
        "      for j in range(len(ans[i])):\n",
        "        yo.append(items.index(ans[i][j])+1)\n",
        "\n",
        "    print(*yo, sep=' ')\n",
        "\n",
        "\n",
        "### Edge Cases:\n",
        "# Input contains an amount for which there is no combinationSum\n",
        "#####IF there is back to back unique sums---IT prints both lines on the second iter#####"
      ],
      "metadata": {
        "colab": {
          "base_uri": "https://localhost:8080/",
          "height": 304
        },
        "id": "NccHCcX2aaX0",
        "outputId": "a11af260-a5e2-4994-cbda-eeb8a4f10e54"
      },
      "execution_count": null,
      "outputs": [
        {
          "name": "stdout",
          "output_type": "stream",
          "text": [
            "3\n",
            "4 5 8\n",
            "3\n",
            "11 13 14\n"
          ]
        },
        {
          "output_type": "error",
          "ename": "TypeError",
          "evalue": "ignored",
          "traceback": [
            "\u001b[0;31m---------------------------------------------------------------------------\u001b[0m",
            "\u001b[0;31mTypeError\u001b[0m                                 Traceback (most recent call last)",
            "\u001b[0;32m<ipython-input-8-f7bf62f6e41b>\u001b[0m in \u001b[0;36m<module>\u001b[0;34m\u001b[0m\n\u001b[1;32m     61\u001b[0m \u001b[0myo\u001b[0m \u001b[0;34m=\u001b[0m \u001b[0;34m[\u001b[0m\u001b[0;34m]\u001b[0m\u001b[0;34m\u001b[0m\u001b[0;34m\u001b[0m\u001b[0m\n\u001b[1;32m     62\u001b[0m \u001b[0;32mfor\u001b[0m \u001b[0mi\u001b[0m \u001b[0;32min\u001b[0m \u001b[0morders\u001b[0m\u001b[0;34m:\u001b[0m\u001b[0;34m\u001b[0m\u001b[0;34m\u001b[0m\u001b[0m\n\u001b[0;32m---> 63\u001b[0;31m   \u001b[0;32mif\u001b[0m \u001b[0mdp\u001b[0m\u001b[0;34m[\u001b[0m\u001b[0mi\u001b[0m\u001b[0;34m]\u001b[0m \u001b[0;34m==\u001b[0m \u001b[0;36m0\u001b[0m\u001b[0;34m:\u001b[0m\u001b[0;34m\u001b[0m\u001b[0;34m\u001b[0m\u001b[0m\n\u001b[0m\u001b[1;32m     64\u001b[0m    \u001b[0mprint\u001b[0m\u001b[0;34m(\u001b[0m\u001b[0;34m'Impossible'\u001b[0m\u001b[0;34m)\u001b[0m\u001b[0;34m\u001b[0m\u001b[0;34m\u001b[0m\u001b[0m\n\u001b[1;32m     65\u001b[0m   \u001b[0;32melif\u001b[0m \u001b[0mdp\u001b[0m\u001b[0;34m[\u001b[0m\u001b[0mi\u001b[0m\u001b[0;34m]\u001b[0m \u001b[0;34m>=\u001b[0m \u001b[0;36m2\u001b[0m\u001b[0;34m:\u001b[0m\u001b[0;34m\u001b[0m\u001b[0;34m\u001b[0m\u001b[0m\n",
            "\u001b[0;31mTypeError\u001b[0m: 'int' object is not subscriptable"
          ]
        }
      ]
    },
    {
      "cell_type": "code",
      "source": [],
      "metadata": {
        "id": "KSQH6RAIj7OV"
      },
      "execution_count": null,
      "outputs": []
    },
    {
      "cell_type": "code",
      "source": [],
      "metadata": {
        "id": "nJnolak2j7KF"
      },
      "execution_count": null,
      "outputs": []
    },
    {
      "cell_type": "code",
      "source": [
        "# parse input\n",
        "num_items = int(input())\n",
        "items = list(map(int, input().split()))\n",
        "num_orders = int(input())\n",
        "orders = list(map(int, input().split()))\n",
        "max_amount = max(orders)"
      ],
      "metadata": {
        "colab": {
          "base_uri": "https://localhost:8080/"
        },
        "id": "VksxKph5j7F2",
        "outputId": "dfe3c011-0a92-4334-efea-3a38e4df42d0"
      },
      "execution_count": null,
      "outputs": [
        {
          "name": "stdout",
          "output_type": "stream",
          "text": [
            "3\n",
            "4 5 8\n",
            "3\n",
            "11 13 14\n"
          ]
        }
      ]
    },
    {
      "cell_type": "code",
      "source": [],
      "metadata": {
        "id": "wOIPEhY0j63a"
      },
      "execution_count": null,
      "outputs": []
    },
    {
      "cell_type": "code",
      "source": [],
      "metadata": {
        "id": "HZoGfVsW9pwf"
      },
      "execution_count": null,
      "outputs": []
    },
    {
      "cell_type": "code",
      "source": [],
      "metadata": {
        "id": "zCcwjM8t9ptU"
      },
      "execution_count": null,
      "outputs": []
    },
    {
      "cell_type": "code",
      "source": [],
      "metadata": {
        "id": "DCGww-s69pqB"
      },
      "execution_count": null,
      "outputs": []
    },
    {
      "cell_type": "code",
      "source": [],
      "metadata": {
        "id": "rrsW0xf69pmf"
      },
      "execution_count": null,
      "outputs": []
    },
    {
      "cell_type": "code",
      "source": [
        "def restaurant(amount, items):\n",
        "  dp = [[0] * (len(items)+1) for i in range(amount +1)]\n",
        "  #List of 'amount + 1' rows and 'len(items) + 1' columns; everything initialized to 0\n",
        "  dp[0] = [1] * (len(items)+1)\n",
        "\n",
        "  for a in range(1, amount+1):\n",
        "    for i in range(len(items) -1, -1, -1):\n",
        "      dp[a][i] = dp[a][i+1]\n",
        "      if a - items[i] >= 0:\n",
        "        dp[a][i] += dp[a - items[i]][i]\n",
        "  return dp\n",
        "\n",
        "dp = restaurant(amount, items)\n"
      ],
      "metadata": {
        "colab": {
          "base_uri": "https://localhost:8080/"
        },
        "id": "ZI_KCPfL9phz",
        "outputId": "d7278277-184e-4718-9bb2-7a988d0ebdce"
      },
      "execution_count": null,
      "outputs": [
        {
          "output_type": "stream",
          "name": "stdout",
          "text": [
            "[(1, 0, 0, 0, 1, 1, 0, 0, 2, 1, 1, 0, 2, 2, 1), (1, 0, 0, 0, 0, 1, 0, 0, 1, 0, 1, 0, 0, 1, 0), (1, 0, 0, 0, 0, 0, 0, 0, 1, 0, 0, 0, 0, 0, 0), (1, 0, 0, 0, 0, 0, 0, 0, 0, 0, 0, 0, 0, 0, 0)]\n"
          ]
        }
      ]
    },
    {
      "cell_type": "code",
      "source": [],
      "metadata": {
        "id": "UN642B86F9hi"
      },
      "execution_count": null,
      "outputs": []
    },
    {
      "cell_type": "code",
      "source": [],
      "metadata": {
        "id": "GKAWJuOiDVli"
      },
      "execution_count": null,
      "outputs": []
    },
    {
      "cell_type": "code",
      "source": [],
      "metadata": {
        "id": "L0gVUvJRGhvL"
      },
      "execution_count": null,
      "outputs": []
    },
    {
      "cell_type": "code",
      "source": [],
      "metadata": {
        "id": "NmJI0EZwGhqW"
      },
      "execution_count": null,
      "outputs": []
    },
    {
      "cell_type": "code",
      "source": [],
      "metadata": {
        "id": "E-dG7IpUGhjV"
      },
      "execution_count": null,
      "outputs": []
    }
  ]
}
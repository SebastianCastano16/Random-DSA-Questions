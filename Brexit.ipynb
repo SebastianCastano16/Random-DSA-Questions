{
  "nbformat": 4,
  "nbformat_minor": 0,
  "metadata": {
    "colab": {
      "provenance": [],
      "include_colab_link": true
    },
    "kernelspec": {
      "name": "python3",
      "display_name": "Python 3"
    },
    "language_info": {
      "name": "python"
    }
  },
  "cells": [
    {
      "cell_type": "markdown",
      "metadata": {
        "id": "view-in-github",
        "colab_type": "text"
      },
      "source": [
        "<a href=\"https://colab.research.google.com/github/SebastianCastano16/Random-DSA-Questions/blob/main/Brexit.ipynb\" target=\"_parent\"><img src=\"https://colab.research.google.com/assets/colab-badge.svg\" alt=\"Open In Colab\"/></a>"
      ]
    },
    {
      "cell_type": "code",
      "execution_count": null,
      "metadata": {
        "colab": {
          "base_uri": "https://localhost:8080/"
        },
        "id": "5st3HGbUUvSN",
        "outputId": "4ceae17a-d0f2-471d-a294-d5ba397bb79c"
      },
      "outputs": [
        {
          "output_type": "stream",
          "name": "stdout",
          "text": [
            "10 14 1 10\n",
            "number of countries: 10\n",
            "number of partnerships: 14\n",
            "my country: 1\n",
            "first country to leave: 10\n",
            "1 2\n",
            "1 3\n",
            "1 4\n",
            "2 5\n",
            "3 5\n",
            "4 5\n",
            "5 6\n",
            "5 7\n",
            "5 8\n",
            "5 9\n",
            "6 10\n",
            "7 10\n",
            "8 10\n",
            "9 10\n",
            "the input (bfs_neighbors) is now this this format: {1: [2, 3, 4], 2: [1, 5], 3: [1, 5], 4: [1, 5], 5: [2, 3, 4, 6, 7, 8, 9], 6: [5, 10], 7: [5, 10], 8: [5, 10], 9: [5, 10], 10: [6, 7, 8, 9]}\n",
            "# of partners for each country {1: 3, 2: 2, 3: 2, 4: 2, 5: 7, 6: 2, 7: 2, 8: 2, 9: 2, 10: 4}\n"
          ]
        }
      ],
      "source": [
        "c, p, x, y = map(int,input().split())\n",
        "print('number of countries:',c)\n",
        "print('number of partnerships:', p)\n",
        "print('my country:',x)\n",
        "print('first country to leave:', y)\n",
        "\n",
        "\n",
        "\n",
        "partners = {}\n",
        "for i in range(p):\n",
        "  partners['partnership_'+str(i)] = [int(number) for number in input().split()]\n",
        "\n",
        "locals().update(partners)\n",
        "\n",
        "# initialize a dictionary of keys\n",
        "bfs_neighbors= {}\n",
        "for i in range(1,c+1):\n",
        "  bfs_neighbors[i] = []\n",
        "\n",
        "for key in bfs_neighbors:\n",
        "  for array in partners.values():\n",
        "    if key in array:\n",
        "      for i in array:\n",
        "        if i != key and i not in bfs_neighbors[key]:\n",
        "          bfs_neighbors[key].append(i)\n",
        "\n",
        "print(\"the input (bfs_neighbors) is now this this format:\", bfs_neighbors)\n",
        "\n",
        "## create array that stores the orginal amount of partners for each country\n",
        "totals = {}\n",
        "for key in bfs_neighbors:\n",
        "  totals[key] = len(bfs_neighbors[key])\n",
        "\n",
        "\n",
        "print('# of partners for each country',totals)\n",
        "\n"
      ]
    },
    {
      "cell_type": "code",
      "source": [
        "d"
      ],
      "metadata": {
        "id": "AMAMIT2Al45P"
      },
      "execution_count": null,
      "outputs": []
    },
    {
      "cell_type": "code",
      "source": [
        "## if our country is the first one to leave like in example 2\n",
        "if y == x:\n",
        "  print(\"leave\")\n",
        "\n",
        "\n",
        "# Delete key of country leaving\n",
        "# might not need to delete entire key, might just need to delete values\n",
        "#then we can state if partners = 0 they have left or something like that\n",
        "# make this a definition\n",
        "\n",
        "for key in list(bfs_neighbors.keys()):\n",
        "  if key == y:\n",
        "    del bfs_neighbors[key]\n",
        "\n",
        "print('bfs_neigbors after deleting first country key:',bfs_neighbors)\n",
        "#Delete y in the values del y\n",
        "for array in bfs_neighbors.values():\n",
        "   if y in array:\n",
        "     array.remove(y)\n",
        "\n",
        "print('bfs_neigbors after deleting first country from other countrys lists:',bfs_neighbors)\n",
        "\n",
        "for i in range(100):\n",
        "  for key in bfs_neighbors.copy():\n",
        "    x = len(bfs_neighbors[key])/totals[key]\n",
        "    if x <= .5:\n",
        "      leaving = key\n",
        "      del bfs_neighbors[key]\n",
        "      if leaving == x:\n",
        "        print('leave')\n",
        "      for array in bfs_neighbors.values():\n",
        "        if leaving in array:\n",
        "          array.remove(leaving)\n",
        "\n",
        "print('bfs_neigbors after deleting next country:',bfs_neighbors)\n",
        "\n",
        "\n",
        "\n",
        "\n",
        "\n",
        "\n",
        "# total neighbors of each key\n",
        "# remove y\n",
        "# while y still in keys remove y\n",
        "# if total neighbors / 2 >=\n",
        "\n",
        "\n",
        "\n",
        "\n",
        "\n",
        "\n",
        "\n",
        "print(bfs_neighbors)"
      ],
      "metadata": {
        "colab": {
          "base_uri": "https://localhost:8080/",
          "height": 236
        },
        "id": "7Z9-EP6cyG12",
        "outputId": "b1d0b6c0-c877-4286-c318-74c3d6031aef"
      },
      "execution_count": null,
      "outputs": [
        {
          "output_type": "error",
          "ename": "NameError",
          "evalue": "ignored",
          "traceback": [
            "\u001b[0;31m---------------------------------------------------------------------------\u001b[0m",
            "\u001b[0;31mNameError\u001b[0m                                 Traceback (most recent call last)",
            "\u001b[0;32m<ipython-input-1-6477fabffc1a>\u001b[0m in \u001b[0;36m<module>\u001b[0;34m\u001b[0m\n\u001b[1;32m      1\u001b[0m \u001b[0;31m## if our country is the first one to leave like in example 2\u001b[0m\u001b[0;34m\u001b[0m\u001b[0;34m\u001b[0m\u001b[0;34m\u001b[0m\u001b[0m\n\u001b[0;32m----> 2\u001b[0;31m \u001b[0;32mif\u001b[0m \u001b[0my\u001b[0m \u001b[0;34m==\u001b[0m \u001b[0mx\u001b[0m\u001b[0;34m:\u001b[0m\u001b[0;34m\u001b[0m\u001b[0;34m\u001b[0m\u001b[0m\n\u001b[0m\u001b[1;32m      3\u001b[0m   \u001b[0mprint\u001b[0m\u001b[0;34m(\u001b[0m\u001b[0;34m\"leave\"\u001b[0m\u001b[0;34m)\u001b[0m\u001b[0;34m\u001b[0m\u001b[0;34m\u001b[0m\u001b[0m\n\u001b[1;32m      4\u001b[0m \u001b[0;34m\u001b[0m\u001b[0m\n\u001b[1;32m      5\u001b[0m \u001b[0;34m\u001b[0m\u001b[0m\n",
            "\u001b[0;31mNameError\u001b[0m: name 'y' is not defined"
          ]
        }
      ]
    },
    {
      "cell_type": "code",
      "source": [
        "if y == x:\n",
        "  print(\"leave\")\n",
        "\n",
        "\n",
        "def delete_key(bfs_neighbors, y):\n",
        "  for key in list(bfs_neighbors.keys()):\n",
        "    if key == y:\n",
        "      del bfs_neighbors[key]\n",
        "\n",
        "#print('bfs_neigbors after deleting first country key:',bfs_neighbors)\n",
        "#Delete y in the values del y\n",
        "def delete_number(bfs_neighbors,y):\n",
        "  for array in bfs_neighbors.values():\n",
        "   if y in array:\n",
        "     array.remove(y)\n",
        "\n",
        "delete_key(bfs_neighbors,y)\n",
        "delete_number(bfs_neighbors,y)\n",
        "\n",
        "#print(bfs_neighbors)\n",
        "\n",
        "b = len(bfs_neighbors)\n",
        "while x in bfs_neighbors and b != newb:\n",
        "  b = len(bfs_neighbors)\n",
        "  for key in bfs_neighbors.copy():\n",
        "    measure = len(bfs_neighbors[key])/totals[key]\n",
        "    if measure <= .5:\n",
        "      y = key\n",
        "      if y == x:\n",
        "        print('leave')\n",
        "      delete_key(bfs_neighbors,y)\n",
        "      delete_number(bfs_neighbors,y)\n",
        "      newb = len(bfs_neighbors)\n",
        "    else:\n",
        "      continue\n",
        "\n",
        "if b == newb and y !=x:\n",
        "  print('stay')\n",
        "\n",
        "\n",
        "\n",
        "\n",
        "\n",
        "\n",
        "  # if b == newb:\n",
        "  #   print('stay')\n",
        "  #   break\n",
        " ## basically have to add that if no other countires leave then stay and break\n",
        "\n",
        "\n",
        "\n",
        "\n",
        "\n",
        "# print('bfs_neigbors after deleting first country from other countrys lists:',bfs_neighbors)\n",
        "\n",
        "# for i in range(100):\n",
        "#   for key in bfs_neighbors.copy():\n",
        "#     x = len(bfs_neighbors[key])/totals[key]\n",
        "#     if x <= .5:\n",
        "#       leaving = key\n",
        "#       del bfs_neighbors[key]\n",
        "#       if leaving == x:\n",
        "#         print('leave')\n",
        "#       for array in bfs_neighbors.values():\n",
        "#         if leaving in array:\n",
        "#           array.remove(leaving)\n",
        "\n",
        "# print('bfs_neigbors after deleting next country:',bfs_neighbors)"
      ],
      "metadata": {
        "colab": {
          "base_uri": "https://localhost:8080/"
        },
        "id": "4cODDcJY6CKW",
        "outputId": "abe9ac37-5aec-4e48-b504-8e2176afa41e"
      },
      "execution_count": null,
      "outputs": [
        {
          "output_type": "stream",
          "name": "stdout",
          "text": [
            "leave\n"
          ]
        }
      ]
    },
    {
      "cell_type": "code",
      "source": [
        "from collections import deque\n",
        "\n",
        "def brexit(c, p, x, y, partners):\n",
        "    # Create a dictionary of keys with empty lists\n",
        "    bfs_neighbors = {i: [] for i in range(1, c + 1)}\n",
        "    # Populate the dictionary with the neighbors for each country\n",
        "    for array in partners:\n",
        "        for i in array:\n",
        "            for j in array:\n",
        "                if i != j:\n",
        "                    bfs_neighbors[i].append(j)\n",
        "    # Check if x and y are already partners\n",
        "    if y in bfs_neighbors[x]:\n",
        "        return \"leave\"\n",
        "    # Create a queue and add the starting node (x)\n",
        "    queue = deque([x])\n",
        "    # Keep track of visited nodes\n",
        "    visited = {x}\n",
        "    # Perform BFS\n",
        "    while queue:\n",
        "        node = queue.popleft()\n",
        "        for neighbor in bfs_neighbors[node]:\n",
        "            if neighbor not in visited:\n",
        "                visited.add(neighbor)\n",
        "                queue.append(neighbor)\n",
        "                if neighbor == y:\n",
        "                    return \"leave\"\n",
        "    return \"stay\"\n",
        "\n",
        "# Input\n",
        "c, p, x, y = map(int, input().split())\n",
        "partners = [list(map(int, input().split())) for i in range(p)]\n",
        "# Output\n",
        "print(brexit(c, p, x, y, partners))\n"
      ],
      "metadata": {
        "colab": {
          "base_uri": "https://localhost:8080/"
        },
        "id": "_D0blhgBJVME",
        "outputId": "759f3d23-65b8-4f36-da3f-358b56078c2e"
      },
      "execution_count": null,
      "outputs": [
        {
          "output_type": "stream",
          "name": "stdout",
          "text": [
            "4 3 4 1\n",
            "2 3\n",
            "2 4\n",
            "1 2\n",
            "leave\n"
          ]
        }
      ]
    },
    {
      "cell_type": "code",
      "source": [
        "from collections import deque\n",
        "\n",
        "c, p, x, y = map(int,input().split())\n",
        "\n",
        "partners = {}\n",
        "for i in range(p):\n",
        "  partners['partnership_'+str(i)] = [int(number) for number in input().split()]\n",
        "\n",
        "# initialize a dictionary of keys\n",
        "bfs_neighbors= {}\n",
        "for i in range(1,c+1):\n",
        "  bfs_neighbors[i] = []\n",
        "\n",
        "for key in bfs_neighbors:\n",
        "  for array in partners.values():\n",
        "    if key in array:\n",
        "      for i in array:\n",
        "        if i != key and i not in bfs_neighbors[key]:\n",
        "          bfs_neighbors[key].append(i)\n",
        "\n",
        "# create array that stores the orginal amount of partners for each country\n",
        "totals = {}\n",
        "for key in bfs_neighbors:\n",
        "  totals[key] = len(bfs_neighbors[key])\n",
        "\n",
        "if y == x:\n",
        "  print(\"leave\")\n",
        "\n",
        "# Create queue and add starting vertex\n",
        "queue = deque()\n",
        "queue.append(x)\n",
        "\n",
        "# Create a set to keep track of visited vertices\n",
        "visited = set()\n",
        "visited.add(x)\n",
        "\n",
        "# Create a variable to store the number of countries that would leave if x leaves\n",
        "leave_count = 0\n",
        "\n",
        "# BFS loop\n",
        "while queue:\n",
        "    vertex = queue.popleft()\n",
        "    leave_count += 1\n",
        "\n",
        "    # Loop through neighbors of vertex\n",
        "    for neighbor in bfs_neighbors[vertex]:\n",
        "        if neighbor not in visited:\n",
        "            visited.add(neighbor)\n",
        "            queue.append(neighbor)\n",
        "\n",
        "# Check if more than half of the countries would leave if x leaves\n",
        "if leave_count / c > 0.5:\n",
        "    print('leave')\n",
        "else:\n",
        "    print('stay')\n"
      ],
      "metadata": {
        "colab": {
          "base_uri": "https://localhost:8080/"
        },
        "id": "WFJzC_2aJ42H",
        "outputId": "c4bf4884-749b-4142-f44a-1e757b9e99e2"
      },
      "execution_count": null,
      "outputs": [
        {
          "output_type": "stream",
          "name": "stdout",
          "text": [
            "4 3 4 1\n",
            "2 3\n",
            "2 4\n",
            "1 2\n",
            "leave\n"
          ]
        }
      ]
    },
    {
      "cell_type": "code",
      "source": [
        "from collections import deque\n",
        "\n",
        "c, p, x, y = map(int, input().split())\n",
        "\n",
        "# Create a graph of countries and their partnerships\n",
        "graph = {i: set() for i in range(1, c+1)}\n",
        "for _ in range(p):\n",
        "    a, b = map(int, input().split())\n",
        "    graph[a].add(b)\n",
        "    graph[b].add(a)\n",
        "\n",
        "\n",
        "for key in graph:\n",
        "  if key == y:\n",
        "    del key\n",
        "print (graph)\n",
        "\n",
        "# Initialize a queue for BFS and add the starting country\n",
        "queue = deque([x])\n",
        "visited = set([x])\n",
        "\n",
        "# Perform BFS\n",
        "while queue:\n",
        "    country = queue.popleft()\n",
        "    for neighbor in graph[country]:\n",
        "        if neighbor not in visited:\n",
        "            visited.add(neighbor)\n",
        "            queue.append(neighbor)\n",
        "\n",
        "# Check if the target country was visited and output the result\n",
        "if y in visited:\n",
        "    print(\"leave\")\n",
        "else:\n",
        "    print(\"stay\")\n"
      ],
      "metadata": {
        "colab": {
          "base_uri": "https://localhost:8080/"
        },
        "id": "YKOLgUR0NLCC",
        "outputId": "32b039ec-6188-44e9-ab35-a7971cbb40e9"
      },
      "execution_count": null,
      "outputs": [
        {
          "output_type": "stream",
          "name": "stdout",
          "text": [
            "4 3 4 1\n",
            "2 3\n",
            "2 4\n",
            "1 2\n",
            "{1: {2}, 2: {1, 3, 4}, 3: {2}, 4: {2}}\n",
            "leave\n"
          ]
        }
      ]
    },
    {
      "cell_type": "code",
      "source": [],
      "metadata": {
        "id": "BMu5fRN_Rs05"
      },
      "execution_count": null,
      "outputs": []
    }
  ]
}
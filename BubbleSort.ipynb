{
  "nbformat": 4,
  "nbformat_minor": 0,
  "metadata": {
    "colab": {
      "provenance": [],
      "authorship_tag": "ABX9TyM4nNczjvomnwgeEqgSqDy6",
      "include_colab_link": true
    },
    "kernelspec": {
      "name": "python3",
      "display_name": "Python 3"
    },
    "language_info": {
      "name": "python"
    }
  },
  "cells": [
    {
      "cell_type": "markdown",
      "metadata": {
        "id": "view-in-github",
        "colab_type": "text"
      },
      "source": [
        "<a href=\"https://colab.research.google.com/github/SebastianCastano16/Random-DSA-Questions/blob/main/BubbleSort.ipynb\" target=\"_parent\"><img src=\"https://colab.research.google.com/assets/colab-badge.svg\" alt=\"Open In Colab\"/></a>"
      ]
    },
    {
      "cell_type": "code",
      "execution_count": null,
      "metadata": {
        "id": "E7UFEVOr-aX2"
      },
      "outputs": [],
      "source": [
        "###TURBO###"
      ]
    },
    {
      "cell_type": "code",
      "source": [],
      "metadata": {
        "id": "0IKonor3-fmy"
      },
      "execution_count": null,
      "outputs": []
    },
    {
      "cell_type": "code",
      "source": [],
      "metadata": {
        "id": "wG8r18rW-fjV"
      },
      "execution_count": null,
      "outputs": []
    },
    {
      "cell_type": "code",
      "source": [
        "def bubbleSort(arr):\n",
        "\n",
        "  n = len(arr)\n",
        "  swapped = False\n",
        "  count = []\n",
        "  # Traverse through all array elements\n",
        "  for i in range(n):\n",
        "    counter = 0\n",
        "    for j in range(0, n-i-1):\n",
        "      # traverse the array from 0 to n-i-1\n",
        "      if arr[j] > arr[j + 1]:\n",
        "        swapped = True\n",
        "        count +=1\n",
        "        arr[j], arr[j+1] = arr[j+1], arr[j]\n",
        "    if not swapped:\n",
        "      return\n",
        "  print(arr)\n",
        ""
      ],
      "metadata": {
        "id": "QJf1z2UH-fgW"
      },
      "execution_count": null,
      "outputs": []
    },
    {
      "cell_type": "code",
      "source": [
        "N = int(input())\n",
        "arr = []\n",
        "for i in range(N):\n",
        "  temp = int(input())\n",
        "  arr.append(temp)\n",
        "\n",
        "bubbleSort(arr)\n",
        "#print(arr)"
      ],
      "metadata": {
        "colab": {
          "base_uri": "https://localhost:8080/"
        },
        "id": "w64lEZdfBc_1",
        "outputId": "c8b27451-54a2-4715-aba2-c06c06fff82b"
      },
      "execution_count": null,
      "outputs": [
        {
          "output_type": "stream",
          "name": "stdout",
          "text": [
            "5\n",
            "5\n",
            "4\n",
            "3\n",
            "2\n",
            "1\n",
            "[1, 2, 3, 4, 5]\n",
            "0\n"
          ]
        }
      ]
    }
  ]
}